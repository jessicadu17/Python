{
 "cells": [
  {
   "cell_type": "markdown",
   "metadata": {
    "id": "TX_-QfCapg5r"
   },
   "source": [
    "## CIND830 - Python Programming for Data Science  \n",
    "### Assignment 2 (10% of the final grade)\n",
    "### Due on March 15, 2021 11:59 PM"
   ]
  },
  {
   "cell_type": "markdown",
   "metadata": {
    "id": "U8IqCJzxpg5t"
   },
   "source": [
    "*****\n",
    "This is a Jupyter Notebook document that extends a simple formatting syntax for authoring HTML and PDF.\n",
    "Review [this](https://jupyter-notebook.readthedocs.io/en/stable/notebook.html) website for more details on using Juputer Notebook.\n",
    "\n",
    "Use the JupyterHub server on the Google Cloud Platform, provided by your designated instructor, for this assignment. Ensure using Python 3.7.6 release then complete the assignment by inserting your Python code wherever seeing the string \"#INSERT YOUR ANSWER HERE.\"\n",
    "\n",
    "When you click the `File` button, from the top navigation bar, then select `Export Notebook As ...`,\n",
    "a document (PDF or HTML format) will be generated that includes\n",
    " both the assignment content and the output of any embedded Python code chunks.\n",
    "\n",
    "Using [these](https://www.ryerson.ca/courses/students/tutorials/assignments/) guidelines,\n",
    "submit **both** the IPYNB and the exported file (PDF or HTML).\n",
    "Failing to submit both files will be subject to mark deduction."
   ]
  },
  {
   "cell_type": "markdown",
   "metadata": {
    "id": "_w2FpDl5pg5u"
   },
   "source": [
    "*****"
   ]
  },
  {
   "cell_type": "markdown",
   "metadata": {
    "id": "EgCYUXsUpg5w"
   },
   "source": [
    "### Question 1 **[50 pts]**:"
   ]
  },
  {
   "cell_type": "markdown",
   "metadata": {
    "id": "U8EiOXpFAvO0"
   },
   "source": [
    "**a)** **[15 pts]** Define a function called `isSymmetrical` that takes a string value as a parameter and returns `TRUE` if the given string is Symmetrical. A string is said to be symmetrical if the reverse of the string is the same as string. For example, “madam” is symmetrical, but “water” is not symmetrical."
   ]
  },
  {
   "cell_type": "code",
   "execution_count": 2,
   "metadata": {
    "id": "uDtTitw9AvO1",
    "pycharm": {
     "name": "#%%\n"
    }
   },
   "outputs": [
    {
     "name": "stdout",
     "output_type": "stream",
     "text": [
      "True\n"
     ]
    }
   ],
   "source": [
    "def isSymmetrical(string):\n",
    "    reverse = string[::-1]\n",
    "    if string == reverse:\n",
    "        return True\n",
    "    else:\n",
    "        return False\n",
    "\n",
    "string = \"madam\"\n",
    "print(isSymmetrical(string))"
   ]
  },
  {
   "cell_type": "markdown",
   "metadata": {
    "id": "7P6eyfpepg58"
   },
   "source": [
    "**b)** **[5 pts]** Modify the `isSymmetrical` function you created in Q1.a to take any type of data as an input and return `TRUE` if the input is symmetrical. For example, \"12321\" is symmetrical, but \"12345\" is not symmetrical."
   ]
  },
  {
   "cell_type": "code",
   "execution_count": 3,
   "metadata": {
    "id": "s2xo2uaYpg59",
    "pycharm": {
     "name": "#%%\n"
    },
    "tags": [
     "parameters"
    ]
   },
   "outputs": [
    {
     "name": "stdout",
     "output_type": "stream",
     "text": [
      "True\n"
     ]
    }
   ],
   "source": [
    "#INSERT YOUR ANSWER HERE.\n",
    "def isSymmetrical(string):\n",
    "    new_string = str(string)\n",
    "    reverse = new_string[::-1]\n",
    "    if new_string == reverse:\n",
    "        return True\n",
    "    else:\n",
    "        return False\n",
    "\n",
    "string = \"12321\"\n",
    "print(isSymmetrical(string))"
   ]
  },
  {
   "cell_type": "markdown",
   "metadata": {
    "id": "xC08P3Mvpg6C"
   },
   "source": [
    "**c)** **[10 pts]** Define a function called `isSymmetricalVec` that calls `isSymmetrical` function you updated in Q1.b to take a list of elements and return their results in a list.  For example, given \\[\"1441\", \"Apple\", \"radar\", \"232\", \"plane\"\\] the function returns \\[`TRUE`, `FALSE`, `TRUE`, `TRUE`, `FALSE`\\]"
   ]
  },
  {
   "cell_type": "code",
   "execution_count": 5,
   "metadata": {
    "id": "MVoBD9X1pg6D",
    "pycharm": {
     "name": "#%%\n"
    },
    "tags": []
   },
   "outputs": [
    {
     "name": "stdout",
     "output_type": "stream",
     "text": [
      "[True, False, True, True, False]\n"
     ]
    }
   ],
   "source": [
    "def isSymmetricalVec(arr):\n",
    "    answers = []\n",
    "    for i in arr:\n",
    "        answers.append(isSymmetrical(i))\n",
    "    return answers\n",
    "\n",
    "arr = [\"1441\", \"Apple\", \"radar\", \"232\", \"plane\"]\n",
    "print(isSymmetricalVec(arr))"
   ]
  },
  {
   "cell_type": "markdown",
   "metadata": {
    "id": "M4dHoJWYpg6G"
   },
   "source": [
    "**d)** **[10 pts]** Define a function called `isSymmetricalDict` by modifying the function you created in Q1.c to return the results in a dictionary with their corresponding input elements. \\\n",
    "For example, given \\[\"1441\", \"Apple\", \"radar\", \"232\", \"plane\"\\] the function returns {\"1441\": `TRUE`, \"Apple\": `FALSE`, \"radar\": `TRUE`, \"232\": `TRUE`, \"plane\": `FALSE`\\}"
   ]
  },
  {
   "cell_type": "code",
   "execution_count": 6,
   "metadata": {
    "id": "gtgmUSaQpg6H",
    "pycharm": {
     "name": "#%%\n"
    },
    "tags": []
   },
   "outputs": [
    {
     "name": "stdout",
     "output_type": "stream",
     "text": [
      "{'1441': True, 'Apple': False, 'radar': True, '232': True, 'plane': False}\n"
     ]
    }
   ],
   "source": [
    "def isSymmetricalDict(arr):\n",
    "    answers = {}\n",
    "    for i in arr:\n",
    "        answers[i] = isSymmetrical(i)\n",
    "    return answers\n",
    "\n",
    "arr = [\"1441\", \"Apple\", \"radar\", \"232\", \"plane\"]\n",
    "print(isSymmetricalDict(arr))"
   ]
  },
  {
   "cell_type": "markdown",
   "metadata": {
    "id": "EXPv2CWzRDgl"
   },
   "source": [
    "**e)** **[10 pts]** Define a function called `isSymmetricalTuple` by modifying the function you created in Q1.d to traverse the values of the returned dictionary **in reverse order** and return the dictionary keys that has a **`TRUE`** value as a tuple.  For example, given \\[\"1441\", \"Apple\", \"radar\", \"232\", \"plane\"\\] the function returns (\"232\", \"radar\",\"1441\")."
   ]
  },
  {
   "cell_type": "code",
   "execution_count": 7,
   "metadata": {
    "id": "M25DHDYOUdpb"
   },
   "outputs": [
    {
     "name": "stdout",
     "output_type": "stream",
     "text": [
      "('232', 'radar', '1441')\n"
     ]
    }
   ],
   "source": [
    "def isSymmetricalTuple(arr):\n",
    "    answers = []\n",
    "    for i in reversed(arr):\n",
    "        if isSymmetrical(i):\n",
    "        \tanswers.append(i)\n",
    "    return tuple(answers)\n",
    "\n",
    "arr = [\"1441\", \"Apple\", \"radar\", \"232\", \"plane\"]\n",
    "print(isSymmetricalTuple(arr))"
   ]
  },
  {
   "cell_type": "markdown",
   "metadata": {
    "id": "ES2Lj2aup8BB"
   },
   "source": [
    "*****"
   ]
  },
  {
   "cell_type": "markdown",
   "metadata": {
    "id": "TEbtnn-0pg6K",
    "nteract": {
     "transient": {
      "deleting": false
     }
    }
   },
   "source": [
    "\n",
    "\n",
    "### Question 2 **[80 pts]** :\n",
    "\n"
   ]
  },
  {
   "cell_type": "markdown",
   "metadata": {
    "id": "FRw3RLJ0pg6M",
    "nteract": {
     "transient": {
      "deleting": false
     }
    }
   },
   "source": [
    "**a)** **[15 pts]** Define a function called `minSubStr` that takes two string arguments ( S and T ), and returns `TRUE` if the characters of *T* exist in *S*, else returns `FALSE`. For example: given `S = 'xBxxAxxCxxAxCxxBxxxAxCxBxxxAxxBxCx'` and `T = \"ABC\"`, returns `TRUE` (`T = \"ABCD\"`, returns `FALSE)`\n"
   ]
  },
  {
   "cell_type": "code",
   "execution_count": 10,
   "metadata": {
    "id": "PWvj1Z6lpg6N",
    "nteract": {
     "transient": {
      "deleting": false
     }
    },
    "tags": []
   },
   "outputs": [
    {
     "name": "stdout",
     "output_type": "stream",
     "text": [
      "True\n"
     ]
    }
   ],
   "source": [
    "def minSubStr(S, T):\n",
    "\tfor i in T:\n",
    "\t\tif not i in S:\n",
    "\t\t\treturn False\n",
    "\treturn True\n",
    "\n",
    "S = \"xBxxAxxCxxAxCxxBxxxAxCxBxxxAxxBxCx\"\n",
    "T = \"ABC\"\n",
    "print(minSubStr(S,T))"
   ]
  },
  {
   "cell_type": "markdown",
   "metadata": {
    "id": "dGqJtsN4AvPB"
   },
   "source": [
    "**b)** **[15 pts]** Modify your `minSubStr` function defined in Q2.a to return the first possible substring (traversing from left) containing all the elements of `T`. For example: given `S = 'xBxxAxxCxxAxCxxBxxxAxCxBxxxAxxBxCx'` and `T = \"ABC\"`, returns **`\"BxxAxxC\"`**"
   ]
  },
  {
   "cell_type": "code",
   "execution_count": 11,
   "metadata": {
    "id": "DVOaFVZvAvPO",
    "pycharm": {
     "name": "#%%\n"
    },
    "tags": []
   },
   "outputs": [
    {
     "name": "stdout",
     "output_type": "stream",
     "text": [
      "BxxAxxCxxAxCxxBxxxAxCxBxxxAxxBxC\n"
     ]
    }
   ],
   "source": [
    "def minSubStr(S, T):\n",
    "\tmn = 10000000\n",
    "\tmx = 0\n",
    "\tfor i in T:\n",
    "\t\tfor j in range(len(S)):\n",
    "\t\t\tif i == S[j]:\n",
    "\t\t\t\tif j < mn:\n",
    "\t\t\t\t\tmn = j\n",
    "\t\t\t\tif j > mx:\n",
    "\t\t\t\t\tmx = j\n",
    "\treturn S[mn:mx+1]\n",
    "\n",
    "S = \"xBxxAxxCxxAxCxxBxxxAxCxBxxxAxxBxCx\"\n",
    "T = \"ABC\"\n",
    "print(minSubStr(S,T))"
   ]
  },
  {
   "cell_type": "markdown",
   "metadata": {
    "id": "mkFrWZ3kAvPQ"
   },
   "source": [
    "**c)** **[20 pts]** Modify your `minSubStr` function defined in Q2.b to return the shortest substring containing all the elements of T. For example: given `S = 'xBxxAxxCxxAxCxxBxxxAxCxBxxxAxxBxCx'` and `T = \"ABC\"`, returns **`\"AxCxB\"`**\n"
   ]
  },
  {
   "cell_type": "code",
   "execution_count": 12,
   "metadata": {
    "id": "fP4sK_mKAvPR",
    "pycharm": {
     "name": "#%%\n"
    },
    "tags": []
   },
   "outputs": [
    {
     "name": "stdout",
     "output_type": "stream",
     "text": [
      "AxCxB\n"
     ]
    }
   ],
   "source": [
    "def minSubStr(S, T):\n",
    "\tmn = 10000000\n",
    "\tanswer = ''\n",
    "\tfor i in range(len(S)):\n",
    "\t\tfor j in range(i, len(S)):\n",
    "\t\t\ttemp = S[i:j+1]\n",
    "\t\t\tcnt = 0\n",
    "\t\t\tfor k in T:\n",
    "\t\t\t\tif k in temp:\n",
    "\t\t\t\t\tcnt += 1\n",
    "\t\t\tif cnt == len(T):\n",
    "\t\t\t\tif j - i + 1 < mn:\n",
    "\t\t\t\t\tmn = j - i + 1\n",
    "\t\t\t\t\tanswer = temp\n",
    "\treturn answer\n",
    "\n",
    "S = \"xBxxAxxCxxAxCxxBxxxAxCxBxxxAxxBxCx\"\n",
    "T = \"ABC\"\n",
    "print(minSubStr(S,T))"
   ]
  },
  {
   "cell_type": "markdown",
   "metadata": {
    "id": "TK1dYXTIYsh2"
   },
   "source": [
    "**d)** **[30 pts]** modify your `minSubStr` function defined in Q2.c to return the shortest substring containing all the elements of T in order. For example: given `S = 'xBxxAxxCxxAxCxxBxxxAxCxBxxxAxxBxCx'` and `T = \"ABC\"`, returns **`\"AxxBxC\"`**"
   ]
  },
  {
   "cell_type": "code",
   "execution_count": 13,
   "metadata": {
    "id": "M_I4iPfUY43m"
   },
   "outputs": [
    {
     "name": "stdout",
     "output_type": "stream",
     "text": [
      "AxxBxC\n"
     ]
    }
   ],
   "source": [
    "def minSubStr(S, T):\n",
    "\tmn = 10000000\n",
    "\tanswer = ''\n",
    "\tfor i in range(len(S)):\n",
    "\t\tfor j in range(i, len(S)):\n",
    "\t\t\ttemp = S[i:j+1]\n",
    "\t\t\tcnt = 0\n",
    "\t\t\tflag = False\n",
    "\t\t\tt_index = 0\n",
    "\t\t\ttemp_index = 0\n",
    "\t\t\twhile(True):\n",
    "\t\t\t\tif t_index >= len(T):\n",
    "\t\t\t\t\tflag = True\n",
    "\t\t\t\t\tbreak\n",
    "\t\t\t\tif temp_index >= len(temp):\n",
    "\t\t\t\t\tbreak\n",
    "\t\t\t\tif T[t_index] == temp[temp_index]:\n",
    "\t\t\t\t\tt_index += 1\n",
    "\t\t\t\ttemp_index += 1\n",
    "\t\t\tif flag:\n",
    "\t\t\t\tif j - i + 1 < mn:\n",
    "\t\t\t\t\tmn = j - i + 1\n",
    "\t\t\t\t\tanswer = temp\n",
    "\treturn answer\n",
    "\n",
    "S = \"xBxxAxxCxxAxCxxBxxxAxCxBxxxAxxBxCx\"\n",
    "T = \"ABC\"\n",
    "print(minSubStr(S,T))"
   ]
  },
  {
   "cell_type": "markdown",
   "metadata": {
    "id": "M9eJ34NNAvPT"
   },
   "source": [
    "*****"
   ]
  },
  {
   "cell_type": "markdown",
   "metadata": {
    "id": "NNVEX5FMq_I7"
   },
   "source": [
    "### Question 3 **[30 pts]**:\n"
   ]
  },
  {
   "cell_type": "markdown",
   "metadata": {
    "id": "oDRF95yUAvPW",
    "pycharm": {
     "name": "#%% md\n"
    }
   },
   "source": [
    "**a)** Complete the given code to define three classes, Shape, Oval and Circle. \n",
    "- Shape will be the parent class of Oval and Circle. \n",
    "- Randomly create ten objects from Oval and Circle classes using the ``for`` loop given below\n",
    "- Your code should produce correct number of Shapes, Circle and Oval objects. The count of objects should be calculated within the class definitions. \n",
    "  - Example output (note that since it is random every time it will be a different number of shapes) \\\\\n",
    "  There are  10 random shape objects ['Circle', 'Circle', 'Circle', 'Circle', 'Oval', 'Circle', 'Oval', 'Oval', 'Circle', 'Circle'] \\\\\n",
    "\t 3 of them are ovals \\\\\n",
    "\t 7 of them are cirlces \\\\\n"
   ]
  },
  {
   "cell_type": "code",
   "execution_count": 14,
   "metadata": {
    "id": "h6V2Y3iuBQ09"
   },
   "outputs": [
    {
     "name": "stdout",
     "output_type": "stream",
     "text": [
      "['Circle', 'Circle', 'Oval', 'Circle', 'Oval', 'Circle', 'Oval', 'Circle', 'Oval', 'Oval']\n",
      "Number of shapes: 10\n",
      "Number of Ovals: 5\n",
      "Number of circles: 5\n"
     ]
    }
   ],
   "source": [
    "# Define Shape class\n",
    "class Shape:\n",
    "\tcount = 0\n",
    "\tdef __init__(self):\n",
    "\t\tself.count += 1\n",
    "\n",
    "\tdef get_count(self):\n",
    "\t\treturn self.count\n",
    "\n",
    "# Define Oval class\n",
    "class Oval(Shape):\n",
    "\tcount = 0\n",
    "\tdef __init__(self):\n",
    "\t\tself.count += 1\n",
    "\n",
    "\tdef get_count(self):\n",
    "\t\treturn self.count\n",
    "# Define Circle class\n",
    "class Circle(Shape):\n",
    "\tcount = 0\n",
    "\tdef __init__(self):\n",
    "\t\tself.count += 1\n",
    "\n",
    "\tdef get_count(self):\n",
    "\t\treturn self.count\n",
    "\n",
    "from random import choice\n",
    "list_of_shapes = [choice(['Circle', 'Oval']) for x in range(10)]\n",
    "shape_count = 0\n",
    "oval_count = 0\n",
    "circle_count = 0\n",
    "for shape in list_of_shapes:\n",
    "  shape_count += 1\n",
    "  if shape == 'Oval':\n",
    "    oval = Oval()\n",
    "    oval_count += 1\n",
    "  else:\n",
    "  \tcircle = Circle()\n",
    "  \tcircle_count += 1\n",
    "\n",
    "print(list_of_shapes)\n",
    "print('Number of shapes:', shape_count)\n",
    "print('Number of Ovals:', oval_count)\n",
    "print('Number of circles:', circle_count)"
   ]
  },
  {
   "cell_type": "markdown",
   "metadata": {
    "id": "l9l0sjUoAvPk"
   },
   "source": [
    "#### This is the end of assignment 2"
   ]
  }
 ],
 "metadata": {
  "colab": {
   "collapsed_sections": [],
   "name": "CIND830W21_Assignment_2.ipynb",
   "provenance": []
  },
  "kernelspec": {
   "display_name": "Python 3",
   "language": "python",
   "name": "python3"
  },
  "language_info": {
   "codemirror_mode": {
    "name": "ipython",
    "version": 3
   },
   "file_extension": ".py",
   "mimetype": "text/x-python",
   "name": "python",
   "nbconvert_exporter": "python",
   "pygments_lexer": "ipython3",
   "version": "3.7.6"
  },
  "nteract": {
   "version": "0.25.1"
  },
  "varInspector": {
   "cols": {
    "lenName": 16,
    "lenType": 16,
    "lenVar": 40
   },
   "kernels_config": {
    "python": {
     "delete_cmd_postfix": "",
     "delete_cmd_prefix": "del ",
     "library": "var_list.py",
     "varRefreshCmd": "print(var_dic_list())"
    },
    "r": {
     "delete_cmd_postfix": ") ",
     "delete_cmd_prefix": "rm(",
     "library": "var_list.r",
     "varRefreshCmd": "cat(var_dic_list()) "
    }
   },
   "types_to_exclude": [
    "module",
    "function",
    "builtin_function_or_method",
    "instance",
    "_Feature"
   ],
   "window_display": false
  }
 },
 "nbformat": 4,
 "nbformat_minor": 4
}
