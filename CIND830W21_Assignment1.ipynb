{
 "cells": [
  {
   "cell_type": "markdown",
   "metadata": {
    "id": "kJ6ssXaGJfGN"
   },
   "source": [
    "## CIND830 - Python Programming for Data Science  \n",
    "### Assignment 1 (10% of the final grade) \n",
    "### Due on February 8, 2021 11:59 PM  "
   ]
  },
  {
   "cell_type": "markdown",
   "metadata": {
    "id": "UWjXw7DsJfGP"
   },
   "source": [
    "*****\n",
    "This is a Jupyter Notebook document that extends a simple formatting syntax for authoring HTML and PDF.\n",
    "Review [this](https://jupyter-notebook.readthedocs.io/en/stable/notebook.html) website for more details on using Jupyter Notebook.\n",
    "\n",
    "Use the JupyterHub server on the Google Cloud Platform, provided by your designated instructor, for this assignment. \n",
    "Ensure using **Python 3.7.6** release then complete the assignment by inserting your Python code wherever seeing the string \"#INSERT YOUR ANSWER HERE.\"\n",
    "\n",
    "When you click the `File` button, from the top navigation bar, then select `Export Notebook As ...`,\n",
    "a document (PDF or HTML format) will be generated that includes\n",
    " both the assignment content and the output of any embedded Python code chunks.\n",
    "\n",
    "Using [these](https://www.ryerson.ca/courses/students/tutorials/assignments/) guidelines,\n",
    "submit **both** the IPYNB and the exported file (PDF or HTML).\n",
    "Failing to submit both files will be subject to mark deduction."
   ]
  },
  {
   "cell_type": "markdown",
   "metadata": {
    "id": "RDm-t4u8JfGP"
   },
   "source": [
    "### Question 1 **[60 pts]**:\n",
    "\n",
    "\n",
    "\n",
    "A multi-valued function has been defined as follows\n",
    "\n",
    "$$\n",
    "f(x) = \\left\\{\n",
    "    \\begin{array}\\\\\n",
    "       ({\\frac{x^2}{|x|+2}})^2 & \\mbox{if} \\ x < 5 \\\\\n",
    "        {\\frac{x^2}{|x|+2}} & \\mbox{if} \\ x = 5 \\\\\n",
    "       \\sqrt{\\frac{x^2}{|x|+2} } & \\mbox{if} \\ x > 5 \n",
    "    \\end{array}\n",
    "\\right.\n",
    "$$"
   ]
  },
  {
   "cell_type": "markdown",
   "metadata": {
    "id": "vARdfJN_JfGQ"
   },
   "source": [
    "**a)** **[10 pts]** Write a program to ask the user to enter a floating-point real number, check whether the number is greater, equal or less than 5, then print the output according to the definition of the multi-valued function.\n",
    "\n",
    "For example, if the user enters `x = -57.8`, then the output should be:<br>\n",
    "`The value of f(x) is 3121.1093571660267`\n",
    "\n",
    "Hint: Use the `math` module as it provides access to some of the essential mathematical functions."
   ]
  },
  {
   "cell_type": "code",
   "execution_count": 12,
   "metadata": {
    "colab": {
     "base_uri": "https://localhost:8080/"
    },
    "id": "CldaDRWdJfGQ",
    "outputId": "402bc26e-0b7e-4067-8e31-765858adedc9"
   },
   "outputs": [
    {
     "name": "stdin",
     "output_type": "stream",
     "text": [
      "Enter a floating-point real number: -57.8\n"
     ]
    },
    {
     "name": "stdout",
     "output_type": "stream",
     "text": [
      "The value of f(x) is 3121.1093571660267\n"
     ]
    }
   ],
   "source": [
    "import math\n",
    "import statistics\n",
    "\n",
    "x=0\n",
    "while True:\n",
    "    try:\n",
    "        x=float(input(\"Enter a floating-point real number:\"))\n",
    "        break\n",
    "    except:\n",
    "        print(\"Number should be float!\")\n",
    "if x<5:\n",
    "    result = ((x**2)/(abs(x)+2))**2\n",
    "\n",
    "elif x==5:\n",
    "    result=(x**2)/(abs(x)+2)\n",
    "    \n",
    "else:\n",
    "    result=math.sqrt((x**2)/(abs(x)+2))\n",
    "\n",
    "print(\"The value of f(x) is \" + str(result))\n"
   ]
  },
  {
   "cell_type": "markdown",
   "metadata": {
    "id": "ZRoY5MRdJfGQ"
   },
   "source": [
    "**b)**  **[10 pts]** Round the output of Q1.a to the nearest ineteger, convert that integer to a list of digits, then print the result.  \n",
    "\n",
    "For example, if the user enters `x = -57.8`, then the output should be: <br>\n",
    "`The value of f(x) is  3121.1093571660267`<br>\n",
    "`The list of digits is  [3, 1, 2, 1] `"
   ]
  },
  {
   "cell_type": "code",
   "execution_count": 13,
   "metadata": {
    "colab": {
     "base_uri": "https://localhost:8080/"
    },
    "id": "b725VzBSJfGR",
    "outputId": "8934e90c-77f2-49cd-ec19-2a1865657f11"
   },
   "outputs": [
    {
     "name": "stdout",
     "output_type": "stream",
     "text": [
      "The list of digits is [3, 1, 2, 1]\n"
     ]
    }
   ],
   "source": [
    "roundedResult = round(result)\n",
    "digits = []\n",
    "if result == 0 :\n",
    "    digits = [0]\n",
    "else:\n",
    "    while roundedResult != 0:\n",
    "        digits.append(roundedResult % 10)\n",
    "        roundedResult = roundedResult // 10\n",
    "    digits.reverse()\n",
    "print(\"The list of digits is \" + str(digits))"
   ]
  },
  {
   "cell_type": "markdown",
   "metadata": {
    "id": "__ArmJayJfGR"
   },
   "source": [
    "**c)**  **[10 pts]** Find and print the `Median`, `Average` and `Mode` of the generated list in Q1.b.  For example, having `list = [6, 7, 7, 4]`, the result should be `Median = 6.5; Average = 6; Mode = 7`.  Ensure notifying the user if there is no unique mode found, as the `Mode` in this exercise returns only the single most common data item in the list.\n",
    "\n",
    "For example, if the user enters `x = -57.8`, then the output should be: <br>\n",
    "`The value of f(x) is  3121.1093571660267`<br>\n",
    "`The list of digits is  [3, 1, 2, 1]` <br>\n",
    "`Median is 1.5 ; Average is 1.75 ; Mode =  1`\n",
    "\n",
    "However, if the user enters `x = -57.2`, then the output should be: <br>\n",
    "`The value of f(x) is  3054.5040248356463` <br>\n",
    "`The list of digits is  [3, 0, 5, 4]` <br>\n",
    "`Median is 3.5 ; Average is 3 ; No unique mode found`\n",
    "\n",
    "Hint: Use the `statistics` module as it provides functions to calculate mathematical statistics of numeric data."
   ]
  },
  {
   "cell_type": "code",
   "execution_count": 14,
   "metadata": {
    "colab": {
     "base_uri": "https://localhost:8080/"
    },
    "id": "UaxzqgFIJfGS",
    "outputId": "cb39d04d-3489-4016-c11c-0e5185b38545"
   },
   "outputs": [
    {
     "name": "stdout",
     "output_type": "stream",
     "text": [
      "Median is 1.5 ; Average is 1.75 ; Mode = 1\n"
     ]
    }
   ],
   "source": [
    "print(\"Median is \" + str(statistics.median(digits)) + \" ;\", end=\" \")\n",
    "print(\"Average is \" + str(sum(digits) / len(digits)) + \" ;\", end=\" \")\n",
    "\n",
    "\n",
    "mode = statistics.mode(digits)\n",
    "modeFlag = True\n",
    "for digit in digits:\n",
    "    if digit != mode and digits.count(digit) == digits.count(mode):\n",
    "        print(\"No unique mode found\")\n",
    "        modeFlag = False\n",
    "        break\n",
    "if modeFlag:\n",
    "    print(\"Mode = \" + str(mode))"
   ]
  },
  {
   "cell_type": "markdown",
   "metadata": {
    "id": "LswUhIjdJfGS"
   },
   "source": [
    "**d)**  **[10 pts]** Find and print the sum of squares of all the numbers of the list generated in Q1.b.  \n",
    "\n",
    "For example, if the user enters `x = -57.8`, then the output should be: <br>\n",
    "`The value of f(x) is  3121.1093571660267`<br>\n",
    "`The list of digits is  [3, 1, 2, 1]` <br>\n",
    "`The sum of squares is 15`  "
   ]
  },
  {
   "cell_type": "code",
   "execution_count": 23,
   "metadata": {
    "colab": {
     "base_uri": "https://localhost:8080/"
    },
    "id": "ICOioDlKJfGS",
    "outputId": "514c6ef3-26ef-4125-83dc-de84efe2be17"
   },
   "outputs": [
    {
     "name": "stdout",
     "output_type": "stream",
     "text": [
      "The sum of squares is 15\n"
     ]
    }
   ],
   "source": [
    "sumOfSquares=0\n",
    "for digit in digits:\n",
    "    sumOfSquares += digit ** 2\n",
    "print(\"The sum of squares is \" + str(sumOfSquares))"
   ]
  },
  {
   "cell_type": "markdown",
   "metadata": {
    "id": "I-eeT2BtJfGT"
   },
   "source": [
    "**e)**  **[10 pts]** Find and print the least common multiple of the numbers in the list generated in Q1.b.  \n",
    "\n",
    "For example, if the user enters `x = -57.8`, then the output should be: <br>\n",
    "`The value of f(x) is  3121.1093571660267`<br>\n",
    "`The list of digits is  [3, 1, 2, 1]` <br>\n",
    "`The least common multiple is 6`"
   ]
  },
  {
   "cell_type": "code",
   "execution_count": 15,
   "metadata": {
    "colab": {
     "base_uri": "https://localhost:8080/"
    },
    "id": "gm0k-xWbJfGT",
    "outputId": "b96fe12c-be1e-4433-89ae-e35225efeda7"
   },
   "outputs": [
    {
     "name": "stdout",
     "output_type": "stream",
     "text": [
      "The least common multiple is 6\n"
     ]
    }
   ],
   "source": [
    "lcm = 1\n",
    "for digit in digits:\n",
    "    lcm = abs(lcm * digit) // math.gcd(lcm, digit)\n",
    "print(\"The least common multiple is \" + str(lcm))"
   ]
  },
  {
   "cell_type": "markdown",
   "metadata": {
    "id": "WQP1V7zOJfGT"
   },
   "source": [
    "**f)**  **[10 pts]** Find and print the binary rpresentation of the numbers in the list generated in Q1.b.  \n",
    "\n",
    "For example, if the user enters `x = -57.8`, then the output should be: <br>\n",
    "`The value of f(x) is  3121.1093571660267`<br>\n",
    "`The list of digits is  [3, 1, 2, 1]` <br>\n",
    "`The binary representation is ['11', '1', '10', '1']` "
   ]
  },
  {
   "cell_type": "code",
   "execution_count": 30,
   "metadata": {
    "colab": {
     "base_uri": "https://localhost:8080/"
    },
    "id": "2GqP_jsyJfGU",
    "outputId": "0848745a-a0e7-4d51-e09a-c94959608cad"
   },
   "outputs": [
    {
     "name": "stdout",
     "output_type": "stream",
     "text": [
      "The binary representation is ['11', '1', '10', '1']\n"
     ]
    }
   ],
   "source": [
    "binary = []\n",
    "for digit in digits:\n",
    "    temp = ''\n",
    "    while digit >= 2:\n",
    "        temp = str(digit % 2) + temp\n",
    "        digit = digit//2\n",
    "    temp = str(digit) + temp\n",
    "    binary.append(temp)\n",
    "print(\"The binary representation is \" + str(binary))"
   ]
  },
  {
   "cell_type": "markdown",
   "metadata": {
    "id": "pHcWCZ8mJfGU"
   },
   "source": [
    "*****"
   ]
  },
  {
   "cell_type": "markdown",
   "metadata": {
    "id": "O3jPbo4vAvPc"
   },
   "source": [
    "### Question 2  **[40 pts]**:\n",
    "\n",
    "Write a program that accepts the coefficients of the folllowing two lines as inputs\n",
    "\n",
    "Line1: $a_1x+b_1y + c_1 = 0$\n",
    "\n",
    "Line2: $a_2x+b_2y + c_2 = 0$\n",
    "\n",
    "Then checks whether the two lines are parallel, intersecting or overlapping according to the conditions listed below."
   ]
  },
  {
   "cell_type": "markdown",
   "metadata": {
    "id": "h_3gNcgeJfGU"
   },
   "source": [
    "**a)**  **[10 pts]** Intersecting lines: If $\\frac{a_1}{a_2} \\ne \\frac{b_1}{b_2}$"
   ]
  },
  {
   "cell_type": "code",
   "execution_count": 8,
   "metadata": {
    "id": "L1uEFS0GAvPg"
   },
   "outputs": [
    {
     "name": "stdin",
     "output_type": "stream",
     "text": [
      "Enter a1:  1\n",
      "Enter b1:  2\n",
      "Enter c1:  3\n",
      "Enter a2:  4\n",
      "Enter b2:  5\n",
      "Enter c2:  6\n"
     ]
    },
    {
     "name": "stdout",
     "output_type": "stream",
     "text": [
      "They are intersecting\n"
     ]
    }
   ],
   "source": [
    "import numpy as np\n",
    "import matplotlib.pyplot as plt\n",
    "\n",
    "a1 = float(input(\"Enter a1: \"))\n",
    "b1 = float(input(\"Enter b1: \"))\n",
    "c1 = float(input(\"Enter c1: \"))\n",
    "a2 = float(input(\"Enter a2: \"))\n",
    "b2 = float(input(\"Enter b2: \"))\n",
    "c2 = float(input(\"Enter c2: \"))\n",
    "\n",
    "if a1 / a2 != b1 / b2 :\n",
    "    print(\"They are intersecting\")\n",
    "    intersecting = True\n",
    "else:\n",
    "    print(\"They are not intersecting\")\n",
    "    intersecting = False\n"
   ]
  },
  {
   "cell_type": "markdown",
   "metadata": {
    "id": "b5J7kRLZAvPe"
   },
   "source": [
    "**b)**   **[10 pts]** Parallel lines: If the lines are not intersecting and $\\frac{a_1}{a_2} = \\frac{b_1}{b_2} \\ne \\frac{c_1}{c_2}$"
   ]
  },
  {
   "cell_type": "code",
   "execution_count": 9,
   "metadata": {
    "id": "bHHNxP0IAvPe"
   },
   "outputs": [
    {
     "name": "stdout",
     "output_type": "stream",
     "text": [
      "They are not parallel\n"
     ]
    }
   ],
   "source": [
    "if not intersecting and a1 / a2 == b1 / b2 != c1 / c2:\n",
    "    print(\"They are parallel\")\n",
    "    parallel = True\n",
    "else:\n",
    "    print(\"They are not parallel\")\n",
    "    parallel = False"
   ]
  },
  {
   "cell_type": "markdown",
   "metadata": {
    "id": "6q5tUb98JfGV"
   },
   "source": [
    "**c)**   **[10 pts]** Overlapping lines: If the lines are not intersecting and $\\frac{a_1}{a_2} = \\frac{b_1}{b_2} = \\frac{c_1}{c_2}$"
   ]
  },
  {
   "cell_type": "code",
   "execution_count": 10,
   "metadata": {
    "id": "PvQTbdc8AvPi"
   },
   "outputs": [
    {
     "name": "stdout",
     "output_type": "stream",
     "text": [
      "They are not overlapping\n"
     ]
    }
   ],
   "source": [
    "if not intersecting and a1 / a2 == b1 / b2 == c1 / c2:\n",
    "    print(\"They are overlapping\")\n",
    "    overlapping = True\n",
    "else:\n",
    "    print(\"They are not overlapping\")\n",
    "    overlapping = False"
   ]
  },
  {
   "cell_type": "markdown",
   "metadata": {
    "id": "l9l0sjUoAvPk"
   },
   "source": [
    "**d)**   **[10 pts]** Plot the two lines graphically using the `matplotlib` and `numpy` libraries or any other suitable libraries. "
   ]
  },
  {
   "cell_type": "code",
   "execution_count": 11,
   "metadata": {
    "id": "cDqwtAjhAvPk"
   },
   "outputs": [
    {
     "name": "stderr",
     "output_type": "stream",
     "text": [
      "/opt/conda/lib/python3.7/site-packages/ipykernel_launcher.py:1: RuntimeWarning: overflow encountered in power\n",
      "  \"\"\"Entry point for launching an IPython kernel.\n"
     ]
    },
    {
     "data": {
      "image/png": "[encoded data removed]",
      "text/plain": [
       "<Figure size 432x288 with 1 Axes>"
      ]
     },
     "metadata": {
      "needs_background": "light"
     },
     "output_type": "display_data"
    }
   ],
   "source": [
    "x1 = np.array(range(-1000, 1000))  \n",
    "y1 = eval(\"(\" + str(a1) + \"**x1+\" + str(c1) + \")/-\" + str(b1))\n",
    "x2 = np.array(range(-1000, 1000))  \n",
    "y2 = eval(\"(\" + str(a2) + \"**x2+\" + str(c2) + \")/-\" + str(b2))\n",
    "plt.plot(x1, y1)  \n",
    "plt.plot(x2, y2)\n",
    "plt.show()"
   ]
  },
  {
   "cell_type": "markdown",
   "metadata": {
    "id": "1pXjKc23jXTj"
   },
   "source": [
    "*****"
   ]
  },
  {
   "cell_type": "markdown",
   "metadata": {
    "id": "liJoAmA1LGOz"
   },
   "source": [
    "### Question 3  **[30 pts]**:\r\n",
    "Write a code for a Number Guessing Game. \r\n",
    "The code assigns a random integer number from a given interval to a varible, then asks the user to make a guess to find that number. \r\n",
    "\r\n",
    "Do not forget to check the validity of the selected number:\r\n",
    "- Is it an integer?\r\n",
    "- Is it an integer that lies in the given range?"
   ]
  },
  {
   "cell_type": "markdown",
   "metadata": {
    "id": "13g6-UkaB2bW"
   },
   "source": [
    "**a)**  **[10 pts]** Follow these steps to implement a simple version of the game:\r\n",
    "- The code assigns a random integer number between 0 and 100 to a variable.\r\n",
    "- The code gives the user only one chance to guess that number. \r\n",
    "- The output of the code should be either 'correct' or 'wrong'.\r\n",
    "\r\n",
    "Hint:  Use the `random` module to generate a pseudo-random number."
   ]
  },
  {
   "cell_type": "code",
   "execution_count": 12,
   "metadata": {
    "id": "pgjCsUosSprl"
   },
   "outputs": [
    {
     "name": "stdin",
     "output_type": "stream",
     "text": [
      "Enter your selected number:  17\n"
     ]
    },
    {
     "name": "stdout",
     "output_type": "stream",
     "text": [
      "wrong\n"
     ]
    }
   ],
   "source": [
    "import random\n",
    "\n",
    "num = random. randint(0,100)\n",
    "while True:\n",
    "    try:\n",
    "        selectedNum = int(input(\"Enter your selected number: \"))\n",
    "        if selectedNum >= 0 and selectedNum <= 100:\n",
    "            break\n",
    "        else:\n",
    "            print(\"Number should be between 0 and 100! \")\n",
    "    except:\n",
    "        print(\"Number should be integer! \")\n",
    "\n",
    "if num == selectedNum:\n",
    "    print(\"correct\")\n",
    "else:\n",
    "    print(\"wrong\")\n",
    "        "
   ]
  },
  {
   "cell_type": "markdown",
   "metadata": {
    "id": "QLa2BEzGBzAc"
   },
   "source": [
    "**b)**  **[10 pts]** Since it is difficult to guess a number in one try, let us give chances and clues. \r\n",
    "\r\n",
    "With unlimited trials and a random integer number in the inclusive range from 0 to 100, the code will compare the first guess with the random number and tell the user if the random number is lower or higher than the user's guess, and so on untill the user correctly guesses the random integer number. "
   ]
  },
  {
   "cell_type": "code",
   "execution_count": 13,
   "metadata": {
    "id": "DhhjKEO9_TG7"
   },
   "outputs": [
    {
     "name": "stdin",
     "output_type": "stream",
     "text": [
      "Enter your selected number:  17\n"
     ]
    },
    {
     "name": "stdout",
     "output_type": "stream",
     "text": [
      "Our number is higher than your guess\n"
     ]
    },
    {
     "name": "stdin",
     "output_type": "stream",
     "text": [
      "Enter your selected number:  18\n"
     ]
    },
    {
     "name": "stdout",
     "output_type": "stream",
     "text": [
      "Our number is higher than your guess\n"
     ]
    },
    {
     "name": "stdin",
     "output_type": "stream",
     "text": [
      "Enter your selected number:  20\n"
     ]
    },
    {
     "name": "stdout",
     "output_type": "stream",
     "text": [
      "Our number is higher than your guess\n"
     ]
    },
    {
     "name": "stdin",
     "output_type": "stream",
     "text": [
      "Enter your selected number:  30\n"
     ]
    },
    {
     "name": "stdout",
     "output_type": "stream",
     "text": [
      "Our number is higher than your guess\n"
     ]
    },
    {
     "name": "stdin",
     "output_type": "stream",
     "text": [
      "Enter your selected number:  35\n"
     ]
    },
    {
     "name": "stdout",
     "output_type": "stream",
     "text": [
      "Our number is lower than your guess\n"
     ]
    },
    {
     "name": "stdin",
     "output_type": "stream",
     "text": [
      "Enter your selected number:  34\n"
     ]
    },
    {
     "name": "stdout",
     "output_type": "stream",
     "text": [
      "Our number is lower than your guess\n"
     ]
    },
    {
     "name": "stdin",
     "output_type": "stream",
     "text": [
      "Enter your selected number:  33\n"
     ]
    },
    {
     "name": "stdout",
     "output_type": "stream",
     "text": [
      "Our number is lower than your guess\n"
     ]
    },
    {
     "name": "stdin",
     "output_type": "stream",
     "text": [
      "Enter your selected number:  32\n"
     ]
    },
    {
     "name": "stdout",
     "output_type": "stream",
     "text": [
      "Correct\n"
     ]
    }
   ],
   "source": [
    "import random \n",
    "\n",
    "num = random. randint(0,100)\n",
    "\n",
    "while True:\n",
    "    try:\n",
    "        selectedNum = int(input(\"Enter your selected number: \"))\n",
    "        if selectedNum >= 0 and selectedNum <= 100:\n",
    "            if selectedNum > num:\n",
    "                print(\"Our number is lower than your guess\")\n",
    "            elif selectedNum < num:\n",
    "                print(\"Our number is higher than your guess\")\n",
    "            else:\n",
    "                print(\"Correct\")\n",
    "                break\n",
    "        else:\n",
    "            print(\"Number should be between 0 and 100!\")\n",
    "    except:\n",
    "        print(\"Number should be integer!\")"
   ]
  },
  {
   "cell_type": "markdown",
   "metadata": {
    "id": "bvWLIEBTFNE1"
   },
   "source": [
    "**c)**  **[10 pts]** Let us develop a better version of the program by limiting the number of chances for guessing the random number based on the interval's boundaries.  \r\n",
    "\r\n",
    " \r\n",
    "Start with asking the user to enter two numbers, being the lower and upper bounds of the interval from which the random number will be selected. After the application chooses the random number based on the entered boundaries, find and print the number of attempts given to the user by computing the square root of the difference between the lower and upper bounds.\r\n",
    "\r\n",
    "Notably, the lower-bound value must be at least 1, and the upper-bound value must be higher than the lower-bound one.\r\n"
   ]
  },
  {
   "cell_type": "code",
   "execution_count": 14,
   "metadata": {
    "colab": {
     "base_uri": "https://localhost:8080/"
    },
    "id": "MexIqFs8EH63",
    "outputId": "e1a7b697-b124-4318-a986-8ec1138e0bf5"
   },
   "outputs": [
    {
     "name": "stdin",
     "output_type": "stream",
     "text": [
      "Enter the lower bound:  0\n"
     ]
    },
    {
     "name": "stdout",
     "output_type": "stream",
     "text": [
      "Lower bound should be at least 1!\n"
     ]
    },
    {
     "name": "stdin",
     "output_type": "stream",
     "text": [
      "Enter the lower bound:  1\n",
      "Enter the upper bound:  10\n",
      "Enter your selected number:  17\n"
     ]
    },
    {
     "name": "stdout",
     "output_type": "stream",
     "text": [
      "Number should be between 1 and 10!\n"
     ]
    },
    {
     "name": "stdin",
     "output_type": "stream",
     "text": [
      "Enter your selected number:  3\n"
     ]
    },
    {
     "name": "stdout",
     "output_type": "stream",
     "text": [
      "Our number is lower than your guess\n"
     ]
    },
    {
     "name": "stdin",
     "output_type": "stream",
     "text": [
      "Enter your selected number:  2\n"
     ]
    },
    {
     "name": "stdout",
     "output_type": "stream",
     "text": [
      "Our number is lower than your guess\n",
      "You ran out of attempts!\n"
     ]
    }
   ],
   "source": [
    "import random \n",
    "from math import sqrt\n",
    "\n",
    "while True:\n",
    "    try:\n",
    "        lower = int(input(\"Enter the lower bound: \"))\n",
    "        if lower >= 1:\n",
    "            break\n",
    "        else:\n",
    "            print(\"Lower bound should be at least 1!\")\n",
    "    except:\n",
    "        print(\"Lower bound should be integer!\")\n",
    "\n",
    "while True:\n",
    "    try:\n",
    "        upper = int(input(\"Enter the upper bound: \"))\n",
    "        if upper > lower:\n",
    "            break\n",
    "        else:\n",
    "            print(\"Upper bound should be bigger than lower bound!\")\n",
    "    except:\n",
    "        print(\"Upper bound should be integer!\")\n",
    "\n",
    "num = random.randint(lower,upper)\n",
    "\n",
    "flag = True\n",
    "for i in range(int(sqrt(upper - lower))):\n",
    "    try:\n",
    "        selectedNum = int(input(\"Enter your selected number: \"))\n",
    "        if selectedNum >= lower and selectedNum <= upper:\n",
    "            if selectedNum > num:\n",
    "                print(\"Our number is lower than your guess\")\n",
    "            elif selectedNum < num:\n",
    "                print(\"Our number is higher than your guess\")\n",
    "            else:\n",
    "                print(\"Correct\")\n",
    "                flag = False\n",
    "                break\n",
    "        else:\n",
    "            print(\"Number should be between \" + str(lower) + \" and \" + str(upper) + \"!\")\n",
    "    except:\n",
    "        print(\"Number should be integer!\")\n",
    "    \n",
    "if flag:\n",
    "    print(\"You ran out of attempts!\")"
   ]
  },
  {
   "cell_type": "markdown",
   "metadata": {
    "id": "E7H-NKYDjaiE"
   },
   "source": [
    "*****"
   ]
  },
  {
   "cell_type": "markdown",
   "metadata": {
    "id": "2XrFEyymLKnR"
   },
   "source": [
    "### Question 4  **[30 pts]**:\r\n",
    "\r\n",
    "Write a code for The Hangman Game. In this game, the user only enters the number of letters existing in that word, and the computer tries to guess them based on a fixed number of attempts.  The game ends if the computer correctly guessed all the letters in order or used all of the given attempts."
   ]
  },
  {
   "cell_type": "code",
   "execution_count": 15,
   "metadata": {
    "id": "Ocvn4QXHDgId"
   },
   "outputs": [
    {
     "name": "stdin",
     "output_type": "stream",
     "text": [
      "Enter number of letters in your word:  5\n"
     ]
    },
    {
     "name": "stdout",
     "output_type": "stream",
     "text": [
      "\n",
      "_ _ _ _ _ \n",
      "\n",
      "Attemtpts remaining: 20\n",
      "Computer's guess is C\n",
      "Enter Place(s) of computer's guess if it is correct\n",
      "Ex: 1 5 9\n"
     ]
    },
    {
     "name": "stdin",
     "output_type": "stream",
     "text": [
      "Enter:  1\n"
     ]
    },
    {
     "name": "stdout",
     "output_type": "stream",
     "text": [
      "\n",
      "C _ _ _ _ \n",
      "\n",
      "Attemtpts remaining: 19\n",
      "Computer's guess is E\n",
      "Enter Place(s) of computer's guess if it is correct\n",
      "Ex: 1 5 9\n"
     ]
    },
    {
     "name": "stdin",
     "output_type": "stream",
     "text": [
      "Enter:  0\n"
     ]
    },
    {
     "name": "stdout",
     "output_type": "stream",
     "text": [
      "\n",
      "C _ _ _ E \n",
      "\n",
      "Attemtpts remaining: 18\n",
      "Computer's guess is X\n",
      "Enter Place(s) of computer's guess if it is correct\n",
      "Ex: 1 5 9\n"
     ]
    },
    {
     "name": "stdin",
     "output_type": "stream",
     "text": [
      "Enter:  \n"
     ]
    },
    {
     "name": "stdout",
     "output_type": "stream",
     "text": [
      "\n",
      "C _ _ _ E \n",
      "\n",
      "Attemtpts remaining: 17\n",
      "Computer's guess is Q\n",
      "Enter Place(s) of computer's guess if it is correct\n",
      "Ex: 1 5 9\n"
     ]
    },
    {
     "name": "stdin",
     "output_type": "stream",
     "text": [
      "Enter:  \n"
     ]
    },
    {
     "name": "stdout",
     "output_type": "stream",
     "text": [
      "\n",
      "C _ _ _ E \n",
      "\n",
      "Attemtpts remaining: 16\n",
      "Computer's guess is F\n",
      "Enter Place(s) of computer's guess if it is correct\n",
      "Ex: 1 5 9\n"
     ]
    },
    {
     "name": "stdin",
     "output_type": "stream",
     "text": [
      "Enter:  \n"
     ]
    },
    {
     "name": "stdout",
     "output_type": "stream",
     "text": [
      "\n",
      "C _ _ _ E \n",
      "\n",
      "Attemtpts remaining: 15\n",
      "Computer's guess is R\n",
      "Enter Place(s) of computer's guess if it is correct\n",
      "Ex: 1 5 9\n"
     ]
    },
    {
     "name": "stdin",
     "output_type": "stream",
     "text": [
      "Enter:  2\n"
     ]
    },
    {
     "name": "stdout",
     "output_type": "stream",
     "text": [
      "\n",
      "C R _ _ E \n",
      "\n",
      "Attemtpts remaining: 14\n",
      "Computer's guess is N\n",
      "Enter Place(s) of computer's guess if it is correct\n",
      "Ex: 1 5 9\n"
     ]
    },
    {
     "name": "stdin",
     "output_type": "stream",
     "text": [
      "Enter:  4\n"
     ]
    },
    {
     "name": "stdout",
     "output_type": "stream",
     "text": [
      "\n",
      "C R _ N E \n",
      "\n",
      "Attemtpts remaining: 13\n",
      "Computer's guess is S\n",
      "Enter Place(s) of computer's guess if it is correct\n",
      "Ex: 1 5 9\n"
     ]
    },
    {
     "name": "stdin",
     "output_type": "stream",
     "text": [
      "Enter:  \n"
     ]
    },
    {
     "name": "stdout",
     "output_type": "stream",
     "text": [
      "\n",
      "C R _ N E \n",
      "\n",
      "Attemtpts remaining: 12\n",
      "Computer's guess is J\n",
      "Enter Place(s) of computer's guess if it is correct\n",
      "Ex: 1 5 9\n"
     ]
    },
    {
     "name": "stdin",
     "output_type": "stream",
     "text": [
      "Enter:  \n"
     ]
    },
    {
     "name": "stdout",
     "output_type": "stream",
     "text": [
      "\n",
      "C R _ N E \n",
      "\n",
      "Attemtpts remaining: 11\n",
      "Computer's guess is G\n",
      "Enter Place(s) of computer's guess if it is correct\n",
      "Ex: 1 5 9\n"
     ]
    },
    {
     "name": "stdin",
     "output_type": "stream",
     "text": [
      "Enter:  \n"
     ]
    },
    {
     "name": "stdout",
     "output_type": "stream",
     "text": [
      "\n",
      "C R _ N E \n",
      "\n",
      "Attemtpts remaining: 10\n",
      "Computer's guess is H\n",
      "Enter Place(s) of computer's guess if it is correct\n",
      "Ex: 1 5 9\n"
     ]
    },
    {
     "name": "stdin",
     "output_type": "stream",
     "text": [
      "Enter:  \n"
     ]
    },
    {
     "name": "stdout",
     "output_type": "stream",
     "text": [
      "\n",
      "C R _ N E \n",
      "\n",
      "Attemtpts remaining: 9\n",
      "Computer's guess is A\n",
      "Enter Place(s) of computer's guess if it is correct\n",
      "Ex: 1 5 9\n"
     ]
    },
    {
     "name": "stdin",
     "output_type": "stream",
     "text": [
      "Enter:  2\n"
     ]
    },
    {
     "name": "stdout",
     "output_type": "stream",
     "text": [
      "\n",
      "C A _ N E \n",
      "\n",
      "Attemtpts remaining: 8\n",
      "Computer's guess is V\n",
      "Enter Place(s) of computer's guess if it is correct\n",
      "Ex: 1 5 9\n"
     ]
    },
    {
     "name": "stdin",
     "output_type": "stream",
     "text": [
      "Enter:  3\n"
     ]
    },
    {
     "name": "stdout",
     "output_type": "stream",
     "text": [
      "\n",
      "--------------------------\n",
      "Your word:  C A V N E \n",
      "--------------------------\n",
      "Computer Won!\n",
      "--------------------------\n"
     ]
    }
   ],
   "source": [
    "import random\n",
    "\n",
    "while True:\n",
    "    try:\n",
    "        letters = int(input(\"Enter number of letters in your word: \"))\n",
    "        if letters > 0:\n",
    "            break\n",
    "        else:\n",
    "            print(\"Number of letters should be bigger than 0!\")\n",
    "    except:\n",
    "       print(\"Number of letters should be integer!\")\n",
    "\n",
    "letterList = ['a', 'b', 'c', 'd', 'e', 'f', 'g', 'h', 'i', 'j', 'k', 'l', 'm', 'n', 'o', 'p', 'q', 'r', 's', 't', 'u', 'v', 'w', 'x', 'y', 'z']\n",
    "expectedWord = []\n",
    "lettersGuessed = []\n",
    "\n",
    "for i in range(letters):\n",
    "    expectedWord.append('_')\n",
    "\n",
    "flag = False\n",
    "for i in range(20):\n",
    "    while True:\n",
    "        guess = random.randint(0,len(letterList) - 1)\n",
    "        if letterList[guess] not in lettersGuessed:\n",
    "            lettersGuessed.append(letterList[guess])\n",
    "            break \n",
    "    print()\n",
    "    for j in range(len(expectedWord)):\n",
    "        print(expectedWord[j], end=\" \")\n",
    "    print()\n",
    "    print()\n",
    "    print(\"Attemtpts remaining: \" + str(20 - i))\n",
    "    print(\"Computer's guess is \" + letterList[guess].upper())\n",
    "    print(\"Enter Place(s) of computer's guess if it is correct\")\n",
    "    print(\"Ex: 1 5 9\")\n",
    "    places = input(\"Enter: \")\n",
    "    placesList = []\n",
    "    if places == \"\":\n",
    "        pass\n",
    "    else: \n",
    "        try: \n",
    "            expectedWord[int(places) - 1] = letterList[guess].upper()\n",
    "        except:\n",
    "            placesList = places.split(\" \")\n",
    "            for place in placesList:\n",
    "                expectedWord[int(place) - 1] = letterList[guess].upper()\n",
    "\n",
    "    if \"_\" not in expectedWord:\n",
    "        print()\n",
    "        print(\"--------------------------\")\n",
    "        print(\"Your word: \", end=\" \")\n",
    "        for j in range(len(expectedWord)):\n",
    "            print(expectedWord[j], end=\" \")\n",
    "        print()\n",
    "        print(\"--------------------------\")\n",
    "        print(\"Computer Won!\")\n",
    "        print(\"--------------------------\")\n",
    "        flag = True\n",
    "        break\n",
    "\n",
    "if not flag:\n",
    "    print()\n",
    "    print(\"--------------------------\")\n",
    "    print(\"Out of attemts!\")\n",
    "    print(\"--------------------------\")\n",
    "    "
   ]
  },
  {
   "cell_type": "markdown",
   "metadata": {
    "id": "7vRukEN2JfGX"
   },
   "source": [
    "#### This is the end of assignment 1"
   ]
  }
 ],
 "metadata": {
  "colab": {
   "collapsed_sections": [],
   "name": "CIND830F20 Assignment 1 QA_shared.ipynb",
   "provenance": []
  },
  "kernelspec": {
   "display_name": "Python 3",
   "language": "python",
   "name": "python3"
  },
  "language_info": {
   "codemirror_mode": {
    "name": "ipython",
    "version": 3
   },
   "file_extension": ".py",
   "mimetype": "text/x-python",
   "name": "python",
   "nbconvert_exporter": "python",
   "pygments_lexer": "ipython3",
   "version": "3.7.6"
  },
  "nteract": {
   "version": "0.27.0"
  },
  "varInspector": {
   "cols": {
    "lenName": 16,
    "lenType": 16,
    "lenVar": 40
   },
   "kernels_config": {
    "python": {
     "delete_cmd_postfix": "",
     "delete_cmd_prefix": "del ",
     "library": "var_list.py",
     "varRefreshCmd": "print(var_dic_list())"
    },
    "r": {
     "delete_cmd_postfix": ") ",
     "delete_cmd_prefix": "rm(",
     "library": "var_list.r",
     "varRefreshCmd": "cat(var_dic_list()) "
    }
   },
   "types_to_exclude": [
    "module",
    "function",
    "builtin_function_or_method",
    "instance",
    "_Feature"
   ],
   "window_display": false
  }
 },
 "nbformat": 4,
 "nbformat_minor": 4
}
